{
 "cells": [
  {
   "cell_type": "code",
   "execution_count": null,
   "metadata": {
    "scrolled": false
   },
   "outputs": [
    {
     "name": "stdout",
     "output_type": "stream",
     "text": [
      "http://i.ytimg.com/vi/i-ksI7SlR9w/mqdefault.jpg\n",
      "  17,141,752.0 Bytes [100.00%] received. Rate: [4478 KB/s].  ETA: [0 secs]    \n"
     ]
    }
   ],
   "source": [
    "from PIL import ImageTk\n",
    "import PIL.Image\n",
    "from tkinter import *\n",
    "from tkinter import ttk\n",
    "import tkinter as tk\n",
    "import pafy\n",
    "import io\n",
    "from urllib.request import urlopen\n",
    "\n",
    "windo = Tk()\n",
    "windo.configure(background='white')\n",
    "windo.title(\"YouTube Video Downloader\")\n",
    "\n",
    "windo.geometry('1300x600')\n",
    "windo.iconbitmap('./meta/yt.ico')\n",
    "windo.resizable(0, 0)\n",
    "\n",
    "\n",
    "def get_info():\n",
    "    global video,lc,im5\n",
    "    link_vid = txt2.get()\n",
    "    try:\n",
    "        video = pafy.new(link_vid)\n",
    "    except Exception as e:\n",
    "        error = tk.Label(windo, text=\"Something went wrong!! Please check URL\", width=35, height=2, fg=\"white\", bg=\"red\",\n",
    "                        font=('times', 18, ' bold '))\n",
    "        error.place(x=274, y=370)\n",
    "        windo.after(5000, destroy_widget, error)\n",
    "        print(e)\n",
    "\n",
    "    ## Set Video Title\n",
    "    v_name = video.title\n",
    "    video_title.config(text=\"Name: \"+ v_name,width=80)\n",
    "    video_title.place(x=50, y=300)\n",
    "\n",
    "    ## Set Duration\n",
    "    dura = video.duration\n",
    "    video_dur.config(text=\"Time: \" +dura,width=17)\n",
    "    video_dur.place(x=50, y=330)\n",
    "\n",
    "    ## Get the Thumbnail of Video\n",
    "    thumb = video.bigthumb\n",
    "    print(thumb)\n",
    "    u = urlopen(thumb)\n",
    "    raw_data = u.read()\n",
    "    im5 = PIL.Image.open(io.BytesIO(raw_data))\n",
    "    im5_resized = im5.resize((240, 150), PIL.Image.ANTIALIAS)\n",
    "\n",
    "    image = ImageTk.PhotoImage(im5_resized)\n",
    "    panel50 = Label(windo, image=image, borderwidth=0)\n",
    "    panel50.image = image\n",
    "    panel50.pack()\n",
    "    panel50.place(x=881, y=90)\n",
    "\n",
    "    ## Download button of Thumbnail\n",
    "    im7 = PIL.Image.open('./meta/download.png')\n",
    "    im7 = im7.resize((40, 40), PIL.Image.ANTIALIAS)\n",
    "    sp_img7 = ImageTk.PhotoImage(im7)\n",
    "    panel8 = Button(windo, borderwidth=0,command = download_video_thumbnail, image=sp_img7, bg='white')\n",
    "    panel8.image = sp_img7\n",
    "    panel8.pack()\n",
    "    panel8.place(x=985, y=245)\n",
    "\n",
    "    dow_list = [\"Choose Format\", \"Video with Sound\",\"Video(No Sound)\", \"Audio Only\"]\n",
    "    lc = ttk.Combobox(windo, width=16, state=\"readonly\")\n",
    "    lc.pack()\n",
    "    lc['values'] = dow_list\n",
    "    lc.current(0)\n",
    "    lc.place(x=280, y=234)\n",
    "\n",
    "    lc.bind(\"<<ComboboxSelected>>\", quality_choose)\n",
    "\n",
    "def destroy_widget(widget):\n",
    "    widget.destroy()\n",
    "\n",
    "def download_video_thumbnail():\n",
    "    try:\n",
    "        vid_id = video.videoid\n",
    "        im5.save(vid_id+'.jpg')\n",
    "        msg = tk.Label(windo, text='Thumbnail Downloaded', width=25, height=2, fg=\"white\", bg=\"midnightblue\",\n",
    "                        font=('times', 18, ' bold '))\n",
    "        msg.place(x=274, y=370)\n",
    "        windo.after(5000, destroy_widget, msg)\n",
    "    except Exception as e:\n",
    "        print(e)\n",
    "\n",
    "def quality_choose(event):\n",
    "    global lc1,best,down_qual\n",
    "    cho = lc.get()\n",
    "    if cho == \"Video with Sound\":\n",
    "        down_qual = video.streams\n",
    "        best = list(video.streams)\n",
    "        best.insert(0, '--Select Quality--')\n",
    "        for i, s in enumerate(best):\n",
    "            best[i] = str(s).replace('normal:', '')\n",
    "        lc1 = ttk.Combobox(windo, width=18, state=\"readonly\")\n",
    "        lc1.pack()\n",
    "        lc1['values'] = best\n",
    "        lc1.current(0)\n",
    "        lc1.place(x=430, y=234)\n",
    "\n",
    "    if cho == \"Video(No Sound)\":\n",
    "        down_qual = video.videostreams\n",
    "        best = list(video.videostreams)\n",
    "        best.insert(0,'Select Video Quality')\n",
    "        for i, s in enumerate(best):\n",
    "            best[i] = str(s).replace('video:','')\n",
    "\n",
    "        lc1 = ttk.Combobox(windo, width=18, state=\"readonly\")\n",
    "        lc1.pack()\n",
    "        lc1['values'] = best\n",
    "        lc1.current(0)\n",
    "        lc1.place(x=430, y=234)\n",
    "\n",
    "    if cho == \"Audio Only\":\n",
    "        down_qual = video.audiostreams\n",
    "        best = list(video.audiostreams)\n",
    "        best.insert(0, 'Select Audio Quality')\n",
    "        for i, s in enumerate(best):\n",
    "            best[i] = str(s).replace('audio:','')\n",
    "        lc1 = ttk.Combobox(windo, width=18, state=\"readonly\")\n",
    "        lc1.pack()\n",
    "        lc1['values'] = best\n",
    "        lc1.current(0)\n",
    "        lc1.place(x=430, y=234)\n",
    "\n",
    "    lc1.bind(\"<<ComboboxSelected>>\", download_button)\n",
    "\n",
    "def download_button(event):\n",
    "    im7 = PIL.Image.open('./meta/down.png')\n",
    "    im7 = im7.resize((140,43), PIL.Image.ANTIALIAS)\n",
    "    sp_img7 = ImageTk.PhotoImage(im7)\n",
    "    panel8 = Button(windo,command = download_vid, borderwidth=0, image=sp_img7, bg='white')\n",
    "    panel8.image = sp_img7\n",
    "    panel8.pack()\n",
    "    panel8.place(x=580, y=223)\n",
    "\n",
    "def download_vid():\n",
    "    try:\n",
    "        choice_qual = lc1.get()\n",
    "        ind = int(best.index(choice_qual))\n",
    "        new_ind = ind-1\n",
    "        selected_qual = down_qual[new_ind]\n",
    "        selected_qual.download()\n",
    "        msg = tk.Label(windo, text='Stream Downloaded', width=25, height=2, fg=\"white\", bg=\"midnightblue\",\n",
    "                       font=('times', 18, ' bold '))\n",
    "        msg.place(x=274, y=370)\n",
    "        windo.after(4000, destroy_widget, msg)\n",
    "\n",
    "    except Exception as e:\n",
    "        error = tk.Label(windo, text=\"Something went wrong!!\", width=27, height=2, fg=\"white\", bg=\"red\",\n",
    "                        font=('times', 18, ' bold '))\n",
    "        error.place(x=274, y=370)\n",
    "        windo.after(5000, destroy_widget, error)\n",
    "        print(e)\n",
    "\n",
    "def clear():\n",
    "    txt2.delete(first=0,last=100)\n",
    "\n",
    "im = PIL.Image.open('./meta/ylogo.png')\n",
    "im = im.resize((200, 200), PIL.Image.ANTIALIAS)\n",
    "wp_img = ImageTk.PhotoImage(im)\n",
    "panel4 = Label(windo, image=wp_img, bg='white')\n",
    "panel4.pack()\n",
    "panel4.place(x=50, y=70)\n",
    "\n",
    "im1 = PIL.Image.open('./meta/search.png')\n",
    "im1 = im1.resize((40, 40), PIL.Image.ANTIALIAS)\n",
    "sp_img = ImageTk.PhotoImage(im1)\n",
    "panel5 = Button(windo, borderwidth=0,command = get_info, image=sp_img, bg='white')\n",
    "panel5.pack()\n",
    "panel5.place(x=750, y=175)\n",
    "\n",
    "im2 = PIL.Image.open('./meta/eraser.png')\n",
    "im2 = im2.resize((40, 40), PIL.Image.ANTIALIAS)\n",
    "sp_img1 = ImageTk.PhotoImage(im2)\n",
    "panel6 = Button(windo, borderwidth=0,command=clear, image=sp_img1, bg='white')\n",
    "panel6.pack()\n",
    "panel6.place(x=810, y=175)\n",
    "\n",
    "\n",
    "pred = tk.Label(windo, text=\"YouTube Video Downloader\", width=30, height=2, fg=\"white\", bg=\"red2\",\n",
    "                font=('times', 25, ' bold '))\n",
    "pred.place(x=274, y=10)\n",
    "\n",
    "lab = tk.Label(windo, text=\"Enter your URL\", width=18, height=1, fg=\"white\", bg=\"blue2\",\n",
    "               font=('times', 16, ' bold '))\n",
    "lab.place(x=394, y=120)\n",
    "\n",
    "txt2 = tk.Entry(windo, borderwidth=7, width=43, bg=\"white\", fg=\"black\", font=('times', 15, ' bold '))\n",
    "txt2.place(x=280, y=170)\n",
    "\n",
    "\n",
    "# txt2.insert(tk.END, 'https://www.youtube.com/watch?v=p_dtI2bLWhY&list=RDMMgkCKTuR-ECI&index=7')\n",
    "\n",
    "video_title = tk.Label(windo, width=10, height=1, fg=\"black\", bg=\"spring green\",\n",
    "                           font=('times', 15, ' bold '))\n",
    "\n",
    "video_dur = tk.Label(windo, width=10, height=1, fg=\"white\", bg=\"dark violet\",\n",
    "                       font=('times', 15, ' bold '))\n",
    "\n",
    "windo.mainloop()"
   ]
  },
  {
   "cell_type": "code",
   "execution_count": 5,
   "metadata": {},
   "outputs": [
    {
     "name": "stdout",
     "output_type": "stream",
     "text": [
      "Requirement already satisfied: pafy in c:\\users\\dell\\anaconda3\\lib\\site-packages (0.5.5)Note: you may need to restart the kernel to use updated packages.\n",
      "\n"
     ]
    }
   ],
   "source": [
    "pip install pafy"
   ]
  },
  {
   "cell_type": "code",
   "execution_count": 1,
   "metadata": {},
   "outputs": [
    {
     "name": "stdout",
     "output_type": "stream",
     "text": [
      "Requirement already satisfied: youtube-dl in c:\\users\\dell\\anaconda3\\lib\\site-packages (2020.12.22)\n",
      "Note: you may need to restart the kernel to use updated packages.\n"
     ]
    }
   ],
   "source": [
    "pip install youtube-dl"
   ]
  },
  {
   "cell_type": "code",
   "execution_count": 2,
   "metadata": {},
   "outputs": [
    {
     "name": "stdout",
     "output_type": "stream",
     "text": [
      "Requirement already satisfied: pillow in c:\\users\\dell\\anaconda3\\lib\\site-packages (7.2.0)\n",
      "Note: you may need to restart the kernel to use updated packages.\n"
     ]
    }
   ],
   "source": [
    "pip install pillow"
   ]
  },
  {
   "cell_type": "code",
   "execution_count": 3,
   "metadata": {},
   "outputs": [
    {
     "ename": "NameError",
     "evalue": "name 'canvas' is not defined",
     "output_type": "error",
     "traceback": [
      "\u001b[1;31m---------------------------------------------------------------------------\u001b[0m",
      "\u001b[1;31mNameError\u001b[0m                                 Traceback (most recent call last)",
      "\u001b[1;32m<ipython-input-3-a9e37fe481f0>\u001b[0m in \u001b[0;36m<module>\u001b[1;34m\u001b[0m\n\u001b[1;32m----> 1\u001b[1;33m \u001b[0mcanvas\u001b[0m\u001b[1;33m.\u001b[0m\u001b[0mcreate_image\u001b[0m\u001b[1;33m\u001b[0m\u001b[1;33m\u001b[0m\u001b[0m\n\u001b[0m",
      "\u001b[1;31mNameError\u001b[0m: name 'canvas' is not defined"
     ]
    }
   ],
   "source": [
    "canvas.create_image"
   ]
  },
  {
   "cell_type": "code",
   "execution_count": null,
   "metadata": {},
   "outputs": [],
   "source": []
  }
 ],
 "metadata": {
  "kernelspec": {
   "display_name": "Python 3",
   "language": "python",
   "name": "python3"
  },
  "language_info": {
   "codemirror_mode": {
    "name": "ipython",
    "version": 3
   },
   "file_extension": ".py",
   "mimetype": "text/x-python",
   "name": "python",
   "nbconvert_exporter": "python",
   "pygments_lexer": "ipython3",
   "version": "3.8.3"
  }
 },
 "nbformat": 4,
 "nbformat_minor": 4
}
